{
 "cells": [
  {
   "cell_type": "code",
   "execution_count": 2,
   "id": "fde66d6e",
   "metadata": {},
   "outputs": [
    {
     "name": "stdout",
     "output_type": "stream",
     "text": [
      "This is Siva\n",
      "How are you\n",
      "hello  This is Siva\n",
      "hello This is Siva How are you\n",
      "Hello\n"
     ]
    }
   ],
   "source": [
    "#method overloading\n",
    "class greeting():\n",
    "    def sayhello(self,name=None,wish=None):\n",
    "        if name is not None and wish is not None:\n",
    "            print(\"hello \"+name+\" \"+wish)\n",
    "        elif name is not None and wish is None:\n",
    "            print(\"hello\"+\"  \"+name)\n",
    "        else:\n",
    "            print(\"Hello\")\n",
    "greet=greeting()\n",
    "a= input()\n",
    "b= input()\n",
    "greet.sayhello(a)\n",
    "greet.sayhello(a,b)\n",
    "greet.sayhello()"
   ]
  },
  {
   "cell_type": "code",
   "execution_count": null,
   "id": "26230c68",
   "metadata": {},
   "outputs": [],
   "source": []
  }
 ],
 "metadata": {
  "kernelspec": {
   "display_name": "Python 3 (ipykernel)",
   "language": "python",
   "name": "python3"
  },
  "language_info": {
   "codemirror_mode": {
    "name": "ipython",
    "version": 3
   },
   "file_extension": ".py",
   "mimetype": "text/x-python",
   "name": "python",
   "nbconvert_exporter": "python",
   "pygments_lexer": "ipython3",
   "version": "3.11.5"
  }
 },
 "nbformat": 4,
 "nbformat_minor": 5
}
