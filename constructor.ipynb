{
 "cells": [
  {
   "cell_type": "markdown",
   "id": "871a0c5e",
   "metadata": {},
   "source": [
    "# Class"
   ]
  },
  {
   "cell_type": "code",
   "execution_count": 1,
   "id": "8e6b159d",
   "metadata": {},
   "outputs": [
    {
     "name": "stdout",
     "output_type": "stream",
     "text": [
      "21\n",
      "m.tech\n"
     ]
    }
   ],
   "source": [
    "# create  a class\n",
    "class Siva:\n",
    "    pass\n",
    "\n",
    "# create a object\n",
    "person = Siva()\n",
    " \n",
    "person.age=21\n",
    "person.study=\"m.tech\"\n",
    "print(person.age)\n",
    "print(person.study)"
   ]
  },
  {
   "cell_type": "code",
   "execution_count": 2,
   "id": "3ca2c921",
   "metadata": {},
   "outputs": [
    {
     "data": {
      "text/plain": [
       "__main__.Siva"
      ]
     },
     "execution_count": 2,
     "metadata": {},
     "output_type": "execute_result"
    }
   ],
   "source": [
    "type(person)"
   ]
  },
  {
   "cell_type": "code",
   "execution_count": 10,
   "id": "5634634f",
   "metadata": {},
   "outputs": [
    {
     "name": "stdout",
     "output_type": "stream",
     "text": [
      "enter the number of persons in your home:4\n",
      "furnished or not furnished :furnished\n",
      "area name:mangalagiri\n",
      "4\n",
      "furnished\n",
      "mangalagiri\n"
     ]
    }
   ],
   "source": [
    "class Home:\n",
    "    def __init__(self,persons,furniture,area):\n",
    "        self.persons=persons\n",
    "        self.furniture=furniture\n",
    "        self.area=area\n",
    "persons=int(input(\"enter the number of persons in your home:\"))\n",
    "furniture=input(\"furnished or not furnished :\")\n",
    "area=input(\"area name:\")\n",
    "\n",
    "local=Home(persons,furniture,area)\n",
    "print(local.persons)\n",
    "print(local.furniture)\n",
    "print(local.area)\n"
   ]
  },
  {
   "cell_type": "code",
   "execution_count": 11,
   "id": "f69551b2",
   "metadata": {},
   "outputs": [
    {
     "data": {
      "text/plain": [
       "('Benz', 4)"
      ]
     },
     "execution_count": 11,
     "metadata": {},
     "output_type": "execute_result"
    }
   ],
   "source": [
    "class Car:\n",
    "    def __init__(self,Brand,seater):\n",
    "        self.Brand=Brand\n",
    "        self.seater=seater\n",
    "    def get_prop(self):\n",
    "        return self.Brand,self.seater\n",
    "        \n",
    "Qual=Car(\"Benz\",4)\n",
    "Qual.get_prop()"
   ]
  },
  {
   "cell_type": "code",
   "execution_count": 12,
   "id": "a01e57e3",
   "metadata": {},
   "outputs": [
    {
     "name": "stdout",
     "output_type": "stream",
     "text": [
      "enter the name:siva\n",
      "enter the age:21\n",
      "enter the name:ass in\n",
      "enter the age:22\n"
     ]
    }
   ],
   "source": [
    "class Student:\n",
    "    def __init__(self,name,age):\n",
    "        self.name=name\n",
    "        self.age=age\n",
    "    \n",
    "\n",
    "name=input(\"enter the name:\")\n",
    "age=int(input(\"enter the age:\"))\n",
    "det1=Student(name,age)\n",
    "\n",
    "\n",
    "\n",
    "name1=input(\"enter the name:\")\n",
    "age2=int(input(\"enter the age:\"))\n",
    "det2=Student(name,age)\n",
    "\n",
    "\n",
    "        "
   ]
  },
  {
   "cell_type": "code",
   "execution_count": 2,
   "id": "24e89960",
   "metadata": {},
   "outputs": [
    {
     "name": "stdout",
     "output_type": "stream",
     "text": [
      "enter the year:2024\n",
      "enter the your birth year2003\n",
      "enter your sibling birth year:2001\n",
      "she /he is  elder:2\n"
     ]
    }
   ],
   "source": [
    "class Birthday_boy():\n",
    "    def __init__ (self,currentyear,birthyear,siblingbirthyear):\n",
    "        self.currentyear=currentyear\n",
    "        self.birthyear=birthyear\n",
    "        self.siblingbirthyear=siblingbirthyear\n",
    "    def age(self):\n",
    "        age_gap=self.birthyear-self.siblingbirthyear\n",
    "        if age_gap>0:\n",
    "            print(f\"she /he is  elder:{abs(age_gap)}\")\n",
    "        elif age_gap==0:\n",
    "            print(\"she/he are both same age:\")\n",
    "            \n",
    "        else:\n",
    "             print(f\"she /he is younger:{abs(age_gap)} \")\n",
    "currentyear=int(input(\"enter the year:\"))\n",
    "birthyear=int(input(\"enter the your birth year\"))\n",
    "siblingbirthyear=int(input(\"enter your sibling birth year:\"))\n",
    "gap=Birthday_boy(currentyear,birthyear,siblingbirthyear)\n",
    "gap.age()\n",
    "\n"
   ]
  },
  {
   "cell_type": "code",
   "execution_count": 9,
   "id": "c1b4f6f8",
   "metadata": {},
   "outputs": [
    {
     "name": "stdout",
     "output_type": "stream",
     "text": [
      "enter x1 value:4\n",
      "enter x2 value:3\n",
      "enter y1 value:4\n",
      "enter y2 value:3\n"
     ]
    },
    {
     "data": {
      "text/plain": [
       "1.0"
      ]
     },
     "execution_count": 9,
     "metadata": {},
     "output_type": "execute_result"
    }
   ],
   "source": [
    "class Point():\n",
    "    def __init__(self,x1,y1,x2,y2):\n",
    "        self.x1=x1\n",
    "        self.y1=y1\n",
    "        self.x2=x2\n",
    "        self.y2=y2\n",
    "        \n",
    "    def slope(self):\n",
    "        slop=(self.y2-self.y1)/(self.x2-self.x1)\n",
    "        return slop\n",
    "x1=float(input(\"enter x1 value:\"))\n",
    "x2=float(input(\"enter x2 value:\")) \n",
    "y1=float(input(\"enter y1 value:\"))\n",
    "y2=float(input(\"enter y2 value:\"))\n",
    "sp=Point(x1,y1,x2,y2)\n",
    "sp.slope()\n",
    "    \n",
    "    "
   ]
  },
  {
   "cell_type": "markdown",
   "id": "c56b3cde",
   "metadata": {},
   "source": []
  }
 ],
 "metadata": {
  "kernelspec": {
   "display_name": "Python 3 (ipykernel)",
   "language": "python",
   "name": "python3"
  },
  "language_info": {
   "codemirror_mode": {
    "name": "ipython",
    "version": 3
   },
   "file_extension": ".py",
   "mimetype": "text/x-python",
   "name": "python",
   "nbconvert_exporter": "python",
   "pygments_lexer": "ipython3",
   "version": "3.11.5"
  }
 },
 "nbformat": 4,
 "nbformat_minor": 5
}
