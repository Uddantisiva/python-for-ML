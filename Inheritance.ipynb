{
 "cells": [
  {
   "cell_type": "code",
   "execution_count": 1,
   "id": "5ba463cb",
   "metadata": {},
   "outputs": [
    {
     "name": "stdout",
     "output_type": "stream",
     "text": [
      "enter student namesiva\n",
      "enter the age of Student:20\n",
      "enter the address:phagwara\n",
      "name of student :siva\n",
      "age of Student:20\n",
      "Address of student:phagwara\n"
     ]
    }
   ],
   "source": [
    "# Inheritaance\n",
    "class Student():\n",
    "    def setname(self,name):\n",
    "        self.name=name\n",
    "    def getname(self):\n",
    "        return self.name\n",
    "class person(Student):\n",
    "    def setage(self,age):\n",
    "        self.age=age\n",
    "    def getage(self):\n",
    "        return self.age\n",
    "class address(person):\n",
    "    def setaddress(self,address):\n",
    "        self.address=address\n",
    "    def getaddress(self):\n",
    "        return self.address\n",
    "name=input(\"enter student name\")\n",
    "age=int(input(\"enter the age of Student:\"))\n",
    "addre=input(\"enter the address:\")\n",
    "info=address()\n",
    "info.setname(name)\n",
    "info.setage(age)\n",
    "info.setaddress(addre)\n",
    "print(f\"name of student :{info.getname()}\\nage of Student:{info.getage()}\\nAddress of student:{info.getaddress()}\")\n"
   ]
  },
  {
   "cell_type": "code",
   "execution_count": 1,
   "id": "7b6ba288",
   "metadata": {},
   "outputs": [
    {
     "name": "stdout",
     "output_type": "stream",
     "text": [
      "190\n",
      "apple- 100\n",
      "lemon- 10\n",
      "Apple- 50\n",
      "Watermelon- 30\n",
      "90\n",
      "lemon- 10\n",
      "Apple- 50\n",
      "Watermelon- 30\n"
     ]
    }
   ],
   "source": [
    "class ShoppingCart:\n",
    "    def __init__ (self):\n",
    "        self.cart_value={}\n",
    "    def add_item(self,item,price):\n",
    "        \n",
    "        if item in self.cart_value.keys():\n",
    "            self.cart_value[item]+=price\n",
    "        else:\n",
    "            self.cart_value[item]=price\n",
    "            \n",
    "    def remove_items(self, item, price):\n",
    "        \n",
    "        if item in self.cart_value.keys():\n",
    "            if ( self.cart_value[item] <= price ):\n",
    "                del self.cart_value[item]\n",
    "            else:\n",
    "                self.cart_value[item] -= price\n",
    "\n",
    "    def calculate_total(self):\n",
    "        value = self.cart_value.values()\n",
    "        return sum(value)\n",
    "    def getall_items(self):\n",
    "        return self.cart_value\n",
    "cart=ShoppingCart()\n",
    "cart.add_item(\"apple\",100)\n",
    "cart.add_item(\"lemon\",10)\n",
    "cart.add_item(\"Apple\",50)\n",
    "cart.add_item(\"Watermelon\",30)\n",
    "\n",
    "print(cart.calculate_total())\n",
    "for key,val in cart.getall_items().items():\n",
    "    print(f\"{key}- {val}\")\n",
    "\n",
    "\n",
    "cart.remove_items(\"apple\",100)\n",
    "\n",
    "print(cart.calculate_total())\n",
    "for key,val in cart.getall_items().items():\n",
    "    print(f\"{key}- {val}\")\n",
    "        "
   ]
  },
  {
   "cell_type": "code",
   "execution_count": null,
   "id": "762f0b1e",
   "metadata": {},
   "outputs": [],
   "source": []
  }
 ],
 "metadata": {
  "kernelspec": {
   "display_name": "Python 3 (ipykernel)",
   "language": "python",
   "name": "python3"
  },
  "language_info": {
   "codemirror_mode": {
    "name": "ipython",
    "version": 3
   },
   "file_extension": ".py",
   "mimetype": "text/x-python",
   "name": "python",
   "nbconvert_exporter": "python",
   "pygments_lexer": "ipython3",
   "version": "3.11.5"
  }
 },
 "nbformat": 4,
 "nbformat_minor": 5
}
