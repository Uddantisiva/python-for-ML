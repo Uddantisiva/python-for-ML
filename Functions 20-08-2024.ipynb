{
 "cells": [
  {
   "cell_type": "code",
   "execution_count": null,
   "id": "661effaa",
   "metadata": {},
   "outputs": [],
   "source": [
    "# enter hours=45\n",
    "# enter rate =10\n",
    "# pay=475\n",
    "\n",
    "hours=float(input(\"enter the number of hours:\"))\n",
    "rate=float(input(\"enter the rate:\"))\n",
    "\n",
    "def calculation():\n",
    "    \n",
    "    pay_amount=hours*rate\n",
    "\n",
    "    if hours>40:\n",
    "        pay_amount=(40*rate)+(hours-40)*rate*1.5\n",
    "        print(pay_amount)\n",
    "      \n",
    "    else:\n",
    "        normal_rate=pay_amount\n",
    "        print(normal_rate)\n",
    "        \n",
    "calculation()\n",
    "    "
   ]
  },
  {
   "cell_type": "markdown",
   "id": "c3db0193",
   "metadata": {},
   "source": [
    " #Recursion"
   ]
  },
  {
   "cell_type": "code",
   "execution_count": 7,
   "id": "1b010f4e",
   "metadata": {},
   "outputs": [
    {
     "name": "stdout",
     "output_type": "stream",
     "text": [
      "0\n",
      "1\n",
      "1\n",
      "2\n",
      "3\n",
      "5\n",
      "8\n",
      "13\n",
      "21\n",
      "34\n"
     ]
    }
   ],
   "source": [
    "def feb(n):\n",
    "    if n<=0:\n",
    "        return 0\n",
    "    \n",
    "    elif n==1:\n",
    "        return 1\n",
    "    else:\n",
    "        return feb(n-1)+feb(n-2)\n",
    "\n",
    "for i in range(10):\n",
    "    \n",
    "    print(feb(i))\n",
    "            "
   ]
  },
  {
   "cell_type": "code",
   "execution_count": 2,
   "id": "bb221ba5",
   "metadata": {},
   "outputs": [
    {
     "name": "stdout",
     "output_type": "stream",
     "text": [
      "entr the value:5\n",
      "120\n"
     ]
    }
   ],
   "source": [
    "def fact(n):\n",
    "    if n==1:\n",
    "        return 1\n",
    "    else:\n",
    "        return n* fact(n-1)\n",
    "num=int(input(\"entr the value:\"))\n",
    "if num==0:\n",
    "    print(\"factorial is 1\")\n",
    "elif num ==1:\n",
    "    print( num)\n",
    "else:\n",
    "    print(fact(num))"
   ]
  },
  {
   "cell_type": "code",
   "execution_count": null,
   "id": "8fbda061",
   "metadata": {},
   "outputs": [],
   "source": []
  }
 ],
 "metadata": {
  "kernelspec": {
   "display_name": "Python 3 (ipykernel)",
   "language": "python",
   "name": "python3"
  },
  "language_info": {
   "codemirror_mode": {
    "name": "ipython",
    "version": 3
   },
   "file_extension": ".py",
   "mimetype": "text/x-python",
   "name": "python",
   "nbconvert_exporter": "python",
   "pygments_lexer": "ipython3",
   "version": "3.11.5"
  }
 },
 "nbformat": 4,
 "nbformat_minor": 5
}
