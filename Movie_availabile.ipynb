{
 "cells": [
  {
   "cell_type": "raw",
   "id": "624ec044",
   "metadata": {},
   "source": [
    "Develop a Movie class with attributes like title ,gener,and rental_price.\n",
    "Write methods to check the availability  of the movie ,rent a movie, and\n",
    "calculate the fees based on the number of days\n"
   ]
  },
  {
   "cell_type": "code",
   "execution_count": 2,
   "id": "93f45840",
   "metadata": {},
   "outputs": [],
   "source": [
    "class Movie:\n",
    "    def __init__(self, title, gener, rental_price):\n",
    "        self.title = title\n",
    "        self.gener = gener\n",
    "        self.rental_price = rental_price\n",
    "        self.is_available = True\n",
    "        self.days=0     \n",
    "   \n",
    "    def check_availability(self):               \n",
    "        movie_title =input(\"enter the title of movie for checking purpose  : \")  \n",
    "        if movie_title == title:\n",
    "            print(f\"this movie available for rent.\")\n",
    "        else:\n",
    "            print(f\"This movie is not available for rent.\")\n",
    "\n",
    "    def rent_movie(self):\n",
    "        if self.is_available:\n",
    "            self.days=int(input(\"How many days you want to rent this movie :\"))\n",
    "        else:\n",
    "            print(f\"{self.title} is not available, so you can't rent it.\")\n",
    "\n",
    "    def calculate_rent(self):\n",
    "        if self.is_available:\n",
    "            total_rent = self.days * self.rental_price\n",
    "            print(f\"Total rent you need to pay: {total_rent}\")\n",
    "        else:\n",
    "            print(\"It is not available, so you don't need to pay anything.\")"
   ]
  },
  {
   "cell_type": "code",
   "execution_count": 3,
   "id": "8b0ba5ee",
   "metadata": {},
   "outputs": [
    {
     "name": "stdout",
     "output_type": "stream",
     "text": [
      "OUTPUT:\n",
      "Enter the movie name: Krish-3\n",
      "Enter the movie genre: action\n",
      "Enter the rental price: 100\n",
      "enter the title of movie for checking purpose  : Krish-3\n",
      "this movie available for rent.\n",
      "How many days you want to rent this movie :100\n",
      "Total rent you need to pay: 10000.0\n"
     ]
    }
   ],
   "source": [
    "print(\"OUTPUT:\")\n",
    "title = input(\"Enter the movie name: \")\n",
    "gener = input(\"Enter the movie genre: \")\n",
    "rental_price = float(input(\"Enter the rental price: \"))\n",
    "movie_instance = Movie(title, gener, rental_price)\n",
    "movie_instance.check_availability()\n",
    "movie_instance.rent_movie()\n",
    "movie_instance.calculate_rent()"
   ]
  },
  {
   "cell_type": "code",
   "execution_count": null,
   "id": "06c33445",
   "metadata": {},
   "outputs": [],
   "source": []
  }
 ],
 "metadata": {
  "kernelspec": {
   "display_name": "Python 3 (ipykernel)",
   "language": "python",
   "name": "python3"
  },
  "language_info": {
   "codemirror_mode": {
    "name": "ipython",
    "version": 3
   },
   "file_extension": ".py",
   "mimetype": "text/x-python",
   "name": "python",
   "nbconvert_exporter": "python",
   "pygments_lexer": "ipython3",
   "version": "3.11.5"
  }
 },
 "nbformat": 4,
 "nbformat_minor": 5
}
