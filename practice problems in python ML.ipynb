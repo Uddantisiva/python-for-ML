{
 "cells": [
  {
   "cell_type": "code",
   "execution_count": 1,
   "id": "cb11e6a5",
   "metadata": {},
   "outputs": [
    {
     "name": "stdout",
     "output_type": "stream",
     "text": [
      "hello word\n"
     ]
    }
   ],
   "source": [
    "print(\"hello word\")"
   ]
  },
  {
   "cell_type": "code",
   "execution_count": 2,
   "id": "1dd928db",
   "metadata": {},
   "outputs": [
    {
     "name": "stdout",
     "output_type": "stream",
     "text": [
      "hello 7 28\n"
     ]
    }
   ],
   "source": [
    "print(\"hello\",7,28)"
   ]
  },
  {
   "cell_type": "code",
   "execution_count": 3,
   "id": "7971ced9",
   "metadata": {},
   "outputs": [],
   "source": [
    "_siva =\"hEllo\""
   ]
  },
  {
   "cell_type": "code",
   "execution_count": 4,
   "id": "a2e18cfd",
   "metadata": {},
   "outputs": [
    {
     "data": {
      "text/plain": [
       "'HELLO'"
      ]
     },
     "execution_count": 4,
     "metadata": {},
     "output_type": "execute_result"
    }
   ],
   "source": [
    "_siva.upper()"
   ]
  },
  {
   "cell_type": "code",
   "execution_count": 5,
   "id": "6a8f5f8d",
   "metadata": {},
   "outputs": [
    {
     "data": {
      "text/plain": [
       "'hello'"
      ]
     },
     "execution_count": 5,
     "metadata": {},
     "output_type": "execute_result"
    }
   ],
   "source": [
    "_siva.lower()"
   ]
  },
  {
   "cell_type": "code",
   "execution_count": 6,
   "id": "92182447",
   "metadata": {},
   "outputs": [],
   "source": [
    "a=\"hello\"\n",
    "b=76\n",
    "c=1.2\n"
   ]
  },
  {
   "cell_type": "code",
   "execution_count": 7,
   "id": "0de5e2a7",
   "metadata": {},
   "outputs": [
    {
     "data": {
      "text/plain": [
       "(float, str, int)"
      ]
     },
     "execution_count": 7,
     "metadata": {},
     "output_type": "execute_result"
    }
   ],
   "source": [
    "type(c),type(a),type(b)\n"
   ]
  },
  {
   "cell_type": "code",
   "execution_count": 8,
   "id": "038dc550",
   "metadata": {},
   "outputs": [
    {
     "data": {
      "text/plain": [
       "1.34"
      ]
     },
     "execution_count": 8,
     "metadata": {},
     "output_type": "execute_result"
    }
   ],
   "source": [
    "abs(1.34)"
   ]
  },
  {
   "cell_type": "code",
   "execution_count": 9,
   "id": "8ca71444",
   "metadata": {},
   "outputs": [
    {
     "data": {
      "text/plain": [
       "16"
      ]
     },
     "execution_count": 9,
     "metadata": {},
     "output_type": "execute_result"
    }
   ],
   "source": [
    "pow(2,4)"
   ]
  },
  {
   "cell_type": "code",
   "execution_count": 10,
   "id": "4d320f0e",
   "metadata": {},
   "outputs": [
    {
     "data": {
      "text/plain": [
       "10000"
      ]
     },
     "execution_count": 10,
     "metadata": {},
     "output_type": "execute_result"
    }
   ],
   "source": [
    "pow(100,2)"
   ]
  },
  {
   "cell_type": "markdown",
   "id": "61b5b22d",
   "metadata": {},
   "source": [
    "pow(x,y) is x**y"
   ]
  },
  {
   "cell_type": "code",
   "execution_count": 11,
   "id": "5c950045",
   "metadata": {},
   "outputs": [
    {
     "data": {
      "text/plain": [
       "1.1"
      ]
     },
     "execution_count": 11,
     "metadata": {},
     "output_type": "execute_result"
    }
   ],
   "source": [
    "round(1.11,1)"
   ]
  },
  {
   "cell_type": "code",
   "execution_count": 12,
   "id": "a462453f",
   "metadata": {},
   "outputs": [
    {
     "data": {
      "text/plain": [
       "2.2"
      ]
     },
     "execution_count": 12,
     "metadata": {},
     "output_type": "execute_result"
    }
   ],
   "source": [
    "round(2.22,1)"
   ]
  },
  {
   "cell_type": "markdown",
   "id": "091952c6",
   "metadata": {},
   "source": [
    "# strings"
   ]
  },
  {
   "cell_type": "code",
   "execution_count": 13,
   "id": "eb401a12",
   "metadata": {},
   "outputs": [],
   "source": [
    "name=\"siva\"\n",
    "age='21'"
   ]
  },
  {
   "cell_type": "code",
   "execution_count": 14,
   "id": "48e7bc86",
   "metadata": {},
   "outputs": [
    {
     "data": {
      "text/plain": [
       "'siva21'"
      ]
     },
     "execution_count": 14,
     "metadata": {},
     "output_type": "execute_result"
    }
   ],
   "source": [
    "name+age"
   ]
  },
  {
   "cell_type": "code",
   "execution_count": 15,
   "id": "e4a52a95",
   "metadata": {},
   "outputs": [
    {
     "name": "stdout",
     "output_type": "stream",
     "text": [
      "my name is:siva\n"
     ]
    }
   ],
   "source": [
    "print(f\"my name is:{name}\")"
   ]
  },
  {
   "cell_type": "code",
   "execution_count": 16,
   "id": "f2e86aa5",
   "metadata": {},
   "outputs": [
    {
     "data": {
      "text/plain": [
       "False"
      ]
     },
     "execution_count": 16,
     "metadata": {},
     "output_type": "execute_result"
    }
   ],
   "source": [
    "bool(15<1)"
   ]
  },
  {
   "cell_type": "code",
   "execution_count": 17,
   "id": "92a3bffc",
   "metadata": {},
   "outputs": [
    {
     "data": {
      "text/plain": [
       "True"
      ]
     },
     "execution_count": 17,
     "metadata": {},
     "output_type": "execute_result"
    }
   ],
   "source": [
    "bool(15>1)"
   ]
  },
  {
   "cell_type": "code",
   "execution_count": 18,
   "id": "c0d5a840",
   "metadata": {},
   "outputs": [
    {
     "name": "stdout",
     "output_type": "stream",
     "text": [
      "enter the year:2002\n",
      "normal\n"
     ]
    }
   ],
   "source": [
    "inp=int(input(\"enter the year:\"))\n",
    "if inp%400==0 or inp%4==0 and inp%100!=0:\n",
    "    print(\"leap\")\n",
    "else:\n",
    "    print( \"normal\")"
   ]
  },
  {
   "cell_type": "code",
   "execution_count": 19,
   "id": "3c75388d",
   "metadata": {},
   "outputs": [
    {
     "name": "stdout",
     "output_type": "stream",
     "text": [
      "enter the weight in kg:10\n",
      "the weight:10.0 is converted as lbs is:22.046\n"
     ]
    }
   ],
   "source": [
    "weight=float(input(\"enter the weight in kg:\"))\n",
    "lbs=weight*2.2046\n",
    "print(f\"the weight:{weight} is converted as lbs is:{lbs}\")"
   ]
  },
  {
   "cell_type": "markdown",
   "id": "ebc39739",
   "metadata": {},
   "source": [
    "calculaus of circumfences of a circle\n",
    "--> cell should define the radius\n",
    "-->define pi=3.24\n",
    "-->"
   ]
  },
  {
   "cell_type": "code",
   "execution_count": 20,
   "id": "1cd87a21",
   "metadata": {},
   "outputs": [
    {
     "name": "stdout",
     "output_type": "stream",
     "text": [
      "enter the radious:4\n",
      "the circumfences of this radious 4 is : 25.12\n"
     ]
    }
   ],
   "source": [
    "r=int(input(\"enter the radious:\"))\n",
    "pi=3.14\n",
    "c=2*pi*r\n",
    "print(f\"the circumfences of this radious {r} is : {c}\")"
   ]
  },
  {
   "cell_type": "code",
   "execution_count": 21,
   "id": "eddf16cb",
   "metadata": {},
   "outputs": [
    {
     "name": "stdout",
     "output_type": "stream",
     "text": [
      "enter the any number:10\n",
      "2.0\n"
     ]
    }
   ],
   "source": [
    "inp=int(input(\"enter the any number:\"))\n",
    "mul=inp*3\n",
    "add=mul+6\n",
    "div=add/3\n",
    "sub=div-inp\n",
    "print(sub)"
   ]
  },
  {
   "cell_type": "code",
   "execution_count": 22,
   "id": "dbb3045c",
   "metadata": {},
   "outputs": [],
   "source": [
    "inp=\"hello world\""
   ]
  },
  {
   "cell_type": "code",
   "execution_count": 23,
   "id": "f8e52e46",
   "metadata": {},
   "outputs": [
    {
     "data": {
      "text/plain": [
       "'hello world'"
      ]
     },
     "execution_count": 23,
     "metadata": {},
     "output_type": "execute_result"
    }
   ],
   "source": [
    "inp"
   ]
  },
  {
   "cell_type": "code",
   "execution_count": 24,
   "id": "40400009",
   "metadata": {},
   "outputs": [
    {
     "name": "stdout",
     "output_type": "stream",
     "text": [
      "enetre the name:siva\n",
      "siva\n",
      "enter the birth year:2003\n",
      "21\n"
     ]
    }
   ],
   "source": [
    "name=input(\"enetre the name:\")\n",
    "print(name)\n",
    "birth_year=int(input(\"enter the birth year:\"))\n",
    "print(2024-birth_year)"
   ]
  },
  {
   "cell_type": "code",
   "execution_count": 25,
   "id": "77b5022f",
   "metadata": {},
   "outputs": [
    {
     "data": {
      "text/plain": [
       "'siva siva '"
      ]
     },
     "execution_count": 25,
     "metadata": {},
     "output_type": "execute_result"
    }
   ],
   "source": [
    "\"siva \"*2"
   ]
  },
  {
   "cell_type": "code",
   "execution_count": 2,
   "id": "a6e41f1c",
   "metadata": {},
   "outputs": [
    {
     "name": "stdout",
     "output_type": "stream",
     "text": [
      "enetr the input:2\n",
      "enetr the another input3\n",
      "6\n"
     ]
    }
   ],
   "source": [
    "a=int(input(\"enetr the input:\"))\n",
    "b=int(input(\"enetr the another input\"))\n",
    "print(a*b)"
   ]
  },
  {
   "cell_type": "code",
   "execution_count": 1,
   "id": "79b0f4f4",
   "metadata": {},
   "outputs": [
    {
     "name": "stdout",
     "output_type": "stream",
     "text": [
      "enter the year :2003\n",
      "I am 21 years old\n",
      "number of days:7665 days\n",
      "number of hours:183960 hours\n",
      "number of minites:11037600 minites\n",
      "number of seconds:662256000 seconds\n"
     ]
    }
   ],
   "source": [
    "year=int(input(\"enter the year :\"))\n",
    "\n",
    "age=2024-year\n",
    "print(f\"I am {age} years old\")\n",
    "days_in_years=365*age\n",
    "print(f\"number of days:{days_in_years} days\")\n",
    "hours_in_days=24*days_in_years\n",
    "print(f\"number of hours:{hours_in_days} hours\")\n",
    "      \n",
    "mini_in_hours=60*hours_in_days\n",
    "print(f\"number of minites:{mini_in_hours} minites\")\n",
    "      \n",
    "seconds_in_min=60*mini_in_hours\n",
    "print(f\"number of seconds:{seconds_in_min} seconds\")\n",
    "    \n",
    "\n",
    "\n"
   ]
  },
  {
   "cell_type": "raw",
   "id": "9a0b4158",
   "metadata": {},
   "source": [
    "\n",
    "\n",
    "write the program to prompt the user for hours and rate per hour to compute the gross pay.\n",
    "\n",
    "\n"
   ]
  },
  {
   "cell_type": "code",
   "execution_count": 1,
   "id": "9730bcc7",
   "metadata": {},
   "outputs": [
    {
     "name": "stdout",
     "output_type": "stream",
     "text": [
      "enter the number of hours worked: 20.5\n",
      "enter the rate per hours: 12.5\n",
      "256.25\n"
     ]
    }
   ],
   "source": [
    "hours=float(input(\"enter the number of hours worked: \"))\n",
    "rate=float(input(\"enter the rate per hours: \"))\n",
    "gross_pay=hours*rate\n",
    "print(gross_pay)"
   ]
  },
  {
   "cell_type": "raw",
   "id": "80bfb069",
   "metadata": {},
   "source": [
    "\n",
    "write your pay computation to give the employee 1.5 times the horly rate for hours worked above 40 hours\n",
    "\n"
   ]
  },
  {
   "cell_type": "code",
   "execution_count": 20,
   "id": "4c11b161",
   "metadata": {},
   "outputs": [
    {
     "name": "stdout",
     "output_type": "stream",
     "text": [
      "enter the working hours:45\n",
      "enter the rate:10\n",
      "475.0\n"
     ]
    }
   ],
   "source": [
    "hour=float(input(\"enter the working hours:\"))\n",
    "rate=float(input(\"enter the rate:\"))\n",
    "pay_amount=hour*rate\n",
    "\n",
    "if hour>40:\n",
    "    pay_amount=(40*rate)+(hour-40)*rate*1.5\n",
    "    print(pay_amount)\n",
    "      \n",
    "else:\n",
    "    normal_rate=pay_amount\n",
    "    print(normal_rate)"
   ]
  },
  {
   "cell_type": "code",
   "execution_count": null,
   "id": "229b5a43",
   "metadata": {},
   "outputs": [],
   "source": [
    "a=int(input(\"enter the value:\"))\n",
    "while (a<=51):\n",
    "    if (a%5==0 or a%7==0):\n",
    "        print(a)\n",
    "        a= int(input(\"enterr the value:\"))\n",
    "print(\"terminated\")"
   ]
  },
  {
   "cell_type": "code",
   "execution_count": null,
   "id": "95b756a7",
   "metadata": {},
   "outputs": [],
   "source": []
  }
 ],
 "metadata": {
  "kernelspec": {
   "display_name": "Python 3 (ipykernel)",
   "language": "python",
   "name": "python3"
  },
  "language_info": {
   "codemirror_mode": {
    "name": "ipython",
    "version": 3
   },
   "file_extension": ".py",
   "mimetype": "text/x-python",
   "name": "python",
   "nbconvert_exporter": "python",
   "pygments_lexer": "ipython3",
   "version": "3.11.5"
  }
 },
 "nbformat": 4,
 "nbformat_minor": 5
}
