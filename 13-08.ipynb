{
 "cells": [
  {
   "cell_type": "markdown",
   "id": "d3c44375",
   "metadata": {},
   "source": [
    "# Project Car Ensurence:"
   ]
  },
  {
   "cell_type": "raw",
   "id": "9e9ba44b",
   "metadata": {},
   "source": [
    "if gender is male\n",
    "--> age <=26 23% of market price\n",
    "--> age>26  9% of market price\n",
    "if gender is female\n",
    "-->sports car (21%)\n",
    "-->  non sports car(10%)\n",
    "\n"
   ]
  },
  {
   "cell_type": "code",
   "execution_count": 2,
   "id": "399bb684",
   "metadata": {},
   "outputs": [
    {
     "name": "stdout",
     "output_type": "stream",
     "text": [
      "enter the gender:M\n",
      "enter the market price:10\n",
      "enter the age:20\n",
      "insurence amount: 2.3000000000000003\n"
     ]
    }
   ],
   "source": [
    "gender=input(\"enter the gender:\")\n",
    "\n",
    "market_price=int(input(\"enter the market price:\"))\n",
    "\n",
    "if gender ==\"M\":\n",
    "    age=int(input(\"enter the age:\"))\n",
    "    if age<=26:\n",
    "        percentage=23/100*market_price\n",
    "        print(\"insurence amount:\",percentage)\n",
    "    elif age>26:\n",
    "        percentage=9/100*market_price\n",
    "        print(\"insurence amount:\",percentage)\n",
    "        \n",
    "elif gender == \"F\":\n",
    "    car_type=input(\"enter the type of car is it sports or not:\")\n",
    "    if car_type == \"Sports\":\n",
    "        percentage=21/100*market_price\n",
    "        print(\"insurence amount:\",percentage)\n",
    "    else:\n",
    "        percentage=10/100*market_price\n",
    "        print(\"insurance amount:\",percentage)\n",
    "        \n",
    "else:\n",
    "    print(\"Go and check the Inputs\")\n"
   ]
  },
  {
   "cell_type": "markdown",
   "id": "a0cd086f",
   "metadata": {},
   "source": [
    "# finding the largest from the list"
   ]
  },
  {
   "cell_type": "code",
   "execution_count": 3,
   "id": "9b37d81d",
   "metadata": {},
   "outputs": [
    {
     "ename": "NameError",
     "evalue": "name 'large_num' is not defined",
     "output_type": "error",
     "traceback": [
      "\u001b[1;31m---------------------------------------------------------------------------\u001b[0m",
      "\u001b[1;31mNameError\u001b[0m                                 Traceback (most recent call last)",
      "Cell \u001b[1;32mIn[3], line 5\u001b[0m\n\u001b[0;32m      2\u001b[0m \u001b[38;5;28mlist\u001b[39m\u001b[38;5;241m=\u001b[39m[\u001b[38;5;241m1\u001b[39m,\u001b[38;5;241m33\u001b[39m,\u001b[38;5;241m55\u001b[39m,\u001b[38;5;241m40\u001b[39m,\u001b[38;5;241m44\u001b[39m,\u001b[38;5;241m50\u001b[39m]\n\u001b[0;32m      4\u001b[0m \u001b[38;5;28;01mfor\u001b[39;00m num \u001b[38;5;129;01min\u001b[39;00m \u001b[38;5;28mlist\u001b[39m:\n\u001b[1;32m----> 5\u001b[0m     \u001b[38;5;28;01mif\u001b[39;00m num\u001b[38;5;241m>\u001b[39mlarge_num:\n\u001b[0;32m      6\u001b[0m         large_num\u001b[38;5;241m=\u001b[39mnum\n\u001b[0;32m      8\u001b[0m large_num\n",
      "\u001b[1;31mNameError\u001b[0m: name 'large_num' is not defined"
     ]
    }
   ],
   "source": [
    "# large_num=-1\n",
    "list=[1,33,55,40,44,50]\n",
    "\n",
    "for num in list:\n",
    "    if num>large_num:\n",
    "        large_num=num\n",
    "        \n",
    "large_num\n",
    "    \n"
   ]
  },
  {
   "cell_type": "markdown",
   "id": "4d16a982",
   "metadata": {},
   "source": [
    "# finding minimum value from the list"
   ]
  },
  {
   "cell_type": "code",
   "execution_count": 4,
   "id": "07f71160",
   "metadata": {},
   "outputs": [
    {
     "data": {
      "text/plain": [
       "-1"
      ]
     },
     "execution_count": 4,
     "metadata": {},
     "output_type": "execute_result"
    }
   ],
   "source": [
    "min_num=0\n",
    "list=[2,4,5,7,7,4,3333,-1,0]\n",
    "for num in list:\n",
    "    if num<min_num:\n",
    "          min_num=num\n",
    "            \n",
    "min_num"
   ]
  },
  {
   "cell_type": "markdown",
   "id": "44388091",
   "metadata": {},
   "source": [
    "# sum of all elements in list"
   ]
  },
  {
   "cell_type": "code",
   "execution_count": 5,
   "id": "cb3f413b",
   "metadata": {},
   "outputs": [
    {
     "data": {
      "text/plain": [
       "24"
      ]
     },
     "execution_count": 5,
     "metadata": {},
     "output_type": "execute_result"
    }
   ],
   "source": [
    "sum=0\n",
    "list=[1,3,4,5,5,6]\n",
    "for i in list:\n",
    "    sum =sum+i\n",
    "sum"
   ]
  },
  {
   "cell_type": "code",
   "execution_count": 6,
   "id": "6a976230",
   "metadata": {},
   "outputs": [
    {
     "data": {
      "text/plain": [
       "6"
      ]
     },
     "execution_count": 6,
     "metadata": {},
     "output_type": "execute_result"
    }
   ],
   "source": [
    "count=0\n",
    "for i in list:\n",
    "    count=count+1\n",
    "count"
   ]
  },
  {
   "cell_type": "code",
   "execution_count": null,
   "id": "744b11d9",
   "metadata": {},
   "outputs": [],
   "source": [
    "list1=input(\"enter the list:\")\n",
    "split_list=list1.split(\",\")\n",
    "print(split_list)\n",
    "A=tuple(split_list)\n"
   ]
  },
  {
   "cell_type": "code",
   "execution_count": null,
   "id": "1e91ab45",
   "metadata": {},
   "outputs": [],
   "source": [
    "type(A)"
   ]
  },
  {
   "cell_type": "code",
   "execution_count": null,
   "id": "48ba468e",
   "metadata": {},
   "outputs": [],
   "source": []
  },
  {
   "cell_type": "code",
   "execution_count": null,
   "id": "45c7d88a",
   "metadata": {},
   "outputs": [],
   "source": []
  }
 ],
 "metadata": {
  "kernelspec": {
   "display_name": "Python 3 (ipykernel)",
   "language": "python",
   "name": "python3"
  },
  "language_info": {
   "codemirror_mode": {
    "name": "ipython",
    "version": 3
   },
   "file_extension": ".py",
   "mimetype": "text/x-python",
   "name": "python",
   "nbconvert_exporter": "python",
   "pygments_lexer": "ipython3",
   "version": "3.11.5"
  }
 },
 "nbformat": 4,
 "nbformat_minor": 5
}
