{
 "cells": [
  {
   "cell_type": "code",
   "execution_count": 1,
   "id": "458ccb26",
   "metadata": {},
   "outputs": [],
   "source": [
    "import random"
   ]
  },
  {
   "cell_type": "code",
   "execution_count": 57,
   "id": "b555ce3f",
   "metadata": {},
   "outputs": [],
   "source": [
    "choice=[\"rock\",\"paper\",\"scissors\"]\n",
    "choice1=random.choice(choice)\n"
   ]
  },
  {
   "cell_type": "code",
   "execution_count": 58,
   "id": "e560c631",
   "metadata": {},
   "outputs": [
    {
     "name": "stdout",
     "output_type": "stream",
     "text": [
      "choose one on this(rock,paper,scissor):paper\n",
      "Computer Win\n"
     ]
    }
   ],
   "source": [
    "inp=input(\"choose one on this(rock,paper,scissor):\")\n",
    "if inp==choice1:\n",
    "    print(\"Draw match\")\n",
    "elif  (inp== \"rock \" and choice1== \"scissors\")or (inp== \"paper\" and choice1==\"rock\")or(inp==\"scissor\" and choice1 == \"paper\") :\n",
    "    print (\"You are the Winner\")\n",
    "else:\n",
    "    print(\"Computer Win\")\n",
    "    "
   ]
  },
  {
   "cell_type": "code",
   "execution_count": 21,
   "id": "a182bc4d",
   "metadata": {},
   "outputs": [
    {
     "data": {
      "text/plain": [
       "'Hihow'"
      ]
     },
     "execution_count": 21,
     "metadata": {},
     "output_type": "execute_result"
    }
   ],
   "source": [
    "b=\"Hihow\"\n",
    "b.strip()"
   ]
  },
  {
   "cell_type": "code",
   "execution_count": 36,
   "id": "68d97687",
   "metadata": {},
   "outputs": [],
   "source": [
    "# stephen.marquard@uct.ac.za Sat Jan 5 09:14:16 2008\n",
    "a=\"stephen.marquard@uct.ac.za Sat Jan 5 09:14:16 2008 siva@123@howru ho\""
   ]
  },
  {
   "cell_type": "code",
   "execution_count": 37,
   "id": "305e1d8a",
   "metadata": {},
   "outputs": [],
   "source": [
    "split_value=a.split()"
   ]
  },
  {
   "cell_type": "code",
   "execution_count": 38,
   "id": "1c96a50d",
   "metadata": {},
   "outputs": [
    {
     "name": "stdout",
     "output_type": "stream",
     "text": [
      "@uct.ac.za\n",
      "@123@howru\n"
     ]
    }
   ],
   "source": [
    "for word in split_value:\n",
    "    if \"@\" in word:\n",
    "        print(word[word.index(\"@\"):])\n",
    "        "
   ]
  },
  {
   "cell_type": "code",
   "execution_count": 7,
   "id": "4d6a5e5d",
   "metadata": {},
   "outputs": [],
   "source": [
    "a= \"you i want young \"\n"
   ]
  },
  {
   "cell_type": "code",
   "execution_count": 8,
   "id": "395c5290",
   "metadata": {},
   "outputs": [],
   "source": [
    "b=a.split()"
   ]
  },
  {
   "cell_type": "code",
   "execution_count": 10,
   "id": "b02e5f76",
   "metadata": {},
   "outputs": [
    {
     "name": "stdout",
     "output_type": "stream",
     "text": [
      "want\n"
     ]
    }
   ],
   "source": [
    "for word in b:\n",
    "    if \"w\" in word:\n",
    "        print(word[word.index(\"w\"):])"
   ]
  },
  {
   "cell_type": "code",
   "execution_count": null,
   "id": "8243794e",
   "metadata": {},
   "outputs": [],
   "source": []
  },
  {
   "cell_type": "code",
   "execution_count": null,
   "id": "c6fd9e90",
   "metadata": {},
   "outputs": [],
   "source": []
  }
 ],
 "metadata": {
  "kernelspec": {
   "display_name": "Python 3 (ipykernel)",
   "language": "python",
   "name": "python3"
  },
  "language_info": {
   "codemirror_mode": {
    "name": "ipython",
    "version": 3
   },
   "file_extension": ".py",
   "mimetype": "text/x-python",
   "name": "python",
   "nbconvert_exporter": "python",
   "pygments_lexer": "ipython3",
   "version": "3.11.5"
  }
 },
 "nbformat": 4,
 "nbformat_minor": 5
}
