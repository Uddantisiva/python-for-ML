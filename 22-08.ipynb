{
 "cells": [
  {
   "cell_type": "code",
   "execution_count": 1,
   "id": "fead0904",
   "metadata": {},
   "outputs": [],
   "source": [
    "import random"
   ]
  },
  {
   "cell_type": "code",
   "execution_count": 2,
   "id": "d58ec05f",
   "metadata": {},
   "outputs": [],
   "source": [
    "word=[1,2,3,3,4]\n"
   ]
  },
  {
   "cell_type": "code",
   "execution_count": 3,
   "id": "060a4efe",
   "metadata": {},
   "outputs": [
    {
     "data": {
      "text/plain": [
       "3"
      ]
     },
     "execution_count": 3,
     "metadata": {},
     "output_type": "execute_result"
    }
   ],
   "source": [
    "random.choice(word)"
   ]
  },
  {
   "cell_type": "code",
   "execution_count": 4,
   "id": "8b3f5cc6",
   "metadata": {},
   "outputs": [
    {
     "data": {
      "text/plain": [
       "int"
      ]
     },
     "execution_count": 4,
     "metadata": {},
     "output_type": "execute_result"
    }
   ],
   "source": [
    "type(random.choice(word))"
   ]
  },
  {
   "cell_type": "code",
   "execution_count": 8,
   "id": "5eda54cb",
   "metadata": {
    "scrolled": true
   },
   "outputs": [
    {
     "data": {
      "text/plain": [
       "['Nuu', 'siva', 'rhythm', 'anad', 'anad']"
      ]
     },
     "execution_count": 8,
     "metadata": {},
     "output_type": "execute_result"
    }
   ],
   "source": [
    "name=[\"siva\",\"abay\",\"anad\",\"rhythm\",\"yaseen\",\"Nuu\"]\n",
    "random.choices(name ,k=5)"
   ]
  },
  {
   "cell_type": "code",
   "execution_count": 9,
   "id": "7bf37262",
   "metadata": {},
   "outputs": [
    {
     "data": {
      "text/plain": [
       "list"
      ]
     },
     "execution_count": 9,
     "metadata": {},
     "output_type": "execute_result"
    }
   ],
   "source": [
    "type(random.choices(name ,k=3))"
   ]
  },
  {
   "cell_type": "code",
   "execution_count": null,
   "id": "a1b1d6b5",
   "metadata": {},
   "outputs": [],
   "source": []
  },
  {
   "cell_type": "code",
   "execution_count": 11,
   "id": "c469860b",
   "metadata": {},
   "outputs": [
    {
     "name": "stdout",
     "output_type": "stream",
     "text": [
      "the jumbled word:['kaaa']\n",
      "enter the word:kaa\n",
      "your lose\n"
     ]
    }
   ],
   "source": [
    "word=[\"siva\",\"rey\",\"nuuu\",\"kukkapilla\",\"kaaa\",\"hate u\"]\n",
    "jumble=random.sample(word,k =  1)\n",
    "print(f\"the jumbled word:{jumble}\")\n",
    "guess= input(\"enter the word:\")\n",
    "if guess== jumble:\n",
    "    print(\"your win\")\n",
    "else:\n",
    "    print(\"your lose\")"
   ]
  },
  {
   "cell_type": "code",
   "execution_count": 18,
   "id": "836e2cae",
   "metadata": {},
   "outputs": [
    {
     "data": {
      "text/plain": [
       "list"
      ]
     },
     "execution_count": 18,
     "metadata": {},
     "output_type": "execute_result"
    }
   ],
   "source": [
    "type(jumble)"
   ]
  },
  {
   "cell_type": "code",
   "execution_count": 29,
   "id": "8170b88c",
   "metadata": {},
   "outputs": [
    {
     "name": "stdout",
     "output_type": "stream",
     "text": [
      "0 1 1 2 3 5 8 "
     ]
    }
   ],
   "source": [
    "# fibbonacci series/\n",
    "'''\n",
    "def fibonacci(n):\n",
    "    if n <= 0:\n",
    "        return 0\n",
    "    elif n == 1:\n",
    "        return 1\n",
    "    else:\n",
    "        return fibonacci(n-1) + fibonacci(n-2)\n",
    "\n",
    "# Print the first 10 Fibonacci numbers\n",
    "for i in range(7):\n",
    "    print(fibonacci(i), end=' ')\n",
    "\n",
    "    \n",
    "    '''\n",
    "    \n"
   ]
  },
  {
   "cell_type": "code",
   "execution_count": 16,
   "id": "17d82f45",
   "metadata": {},
   "outputs": [
    {
     "name": "stdout",
     "output_type": "stream",
     "text": [
      "0   1   1   2   3   5   8   "
     ]
    }
   ],
   "source": [
    "def feb(n):\n",
    "    if n<=0:\n",
    "        return  0\n",
    "    elif n == 1:\n",
    "        return 1\n",
    "    else:\n",
    "        return feb(n-1)+feb(n-2)\n",
    "for i in range(7):\n",
    "#     print(\"febonacci series values:\",feb(i),end=\" \")\n",
    "    print(feb(i),end=\"   \")\n",
    "    "
   ]
  },
  {
   "cell_type": "code",
   "execution_count": 5,
   "id": "aaf4970d",
   "metadata": {},
   "outputs": [
    {
     "name": "stdout",
     "output_type": "stream",
     "text": [
      "entr the value:4\n",
      "24\n"
     ]
    }
   ],
   "source": [
    "def fact(n):\n",
    "    if n==1:\n",
    "        return 1\n",
    "    else:\n",
    "        return n* fact(n-1)\n",
    "num=int(input(\"entr the value:\"))\n",
    "if num==0:\n",
    "    print(\"factorial is 1\")\n",
    "elif num ==1:\n",
    "    print( num)\n",
    "else:\n",
    "    print(fact(num))"
   ]
  },
  {
   "cell_type": "code",
   "execution_count": 7,
   "id": "7d320208",
   "metadata": {},
   "outputs": [
    {
     "data": {
      "text/plain": [
       "23"
      ]
     },
     "execution_count": 7,
     "metadata": {},
     "output_type": "execute_result"
    }
   ],
   "source": [
    "a=1,23,4\n",
    "max(a)"
   ]
  },
  {
   "cell_type": "code",
   "execution_count": 8,
   "id": "4f7fcf3a",
   "metadata": {},
   "outputs": [
    {
     "data": {
      "text/plain": [
       "1"
      ]
     },
     "execution_count": 8,
     "metadata": {},
     "output_type": "execute_result"
    }
   ],
   "source": [
    "min(a)"
   ]
  },
  {
   "cell_type": "code",
   "execution_count": 19,
   "id": "8233b61d",
   "metadata": {},
   "outputs": [
    {
     "name": "stdout",
     "output_type": "stream",
     "text": [
      "325\n"
     ]
    }
   ],
   "source": [
    "def add_(a,b):\n",
    "    sum=0\n",
    "    for i in range(a,b+1):\n",
    "        sum+=i\n",
    "    return sum\n",
    "res=add_(1,25)\n",
    "print(res)"
   ]
  },
  {
   "cell_type": "code",
   "execution_count": 20,
   "id": "5f1173f7",
   "metadata": {},
   "outputs": [],
   "source": [
    "a={\"a1\":30,\"a2\":40}"
   ]
  },
  {
   "cell_type": "code",
   "execution_count": 21,
   "id": "d6710fe7",
   "metadata": {},
   "outputs": [
    {
     "data": {
      "text/plain": [
       "dict_values([30, 40])"
      ]
     },
     "execution_count": 21,
     "metadata": {},
     "output_type": "execute_result"
    }
   ],
   "source": [
    "a.values()"
   ]
  },
  {
   "cell_type": "code",
   "execution_count": 22,
   "id": "0a39cb1e",
   "metadata": {},
   "outputs": [
    {
     "data": {
      "text/plain": [
       "dict_items([('a1', 30), ('a2', 40)])"
      ]
     },
     "execution_count": 22,
     "metadata": {},
     "output_type": "execute_result"
    }
   ],
   "source": [
    "a.items()"
   ]
  },
  {
   "cell_type": "code",
   "execution_count": 23,
   "id": "91d3a3de",
   "metadata": {},
   "outputs": [
    {
     "data": {
      "text/plain": [
       "dict_keys(['a1', 'a2'])"
      ]
     },
     "execution_count": 23,
     "metadata": {},
     "output_type": "execute_result"
    }
   ],
   "source": [
    "a.keys()"
   ]
  },
  {
   "cell_type": "code",
   "execution_count": null,
   "id": "49e1e47f",
   "metadata": {},
   "outputs": [],
   "source": []
  }
 ],
 "metadata": {
  "kernelspec": {
   "display_name": "Python 3 (ipykernel)",
   "language": "python",
   "name": "python3"
  },
  "language_info": {
   "codemirror_mode": {
    "name": "ipython",
    "version": 3
   },
   "file_extension": ".py",
   "mimetype": "text/x-python",
   "name": "python",
   "nbconvert_exporter": "python",
   "pygments_lexer": "ipython3",
   "version": "3.11.5"
  }
 },
 "nbformat": 4,
 "nbformat_minor": 5
}
