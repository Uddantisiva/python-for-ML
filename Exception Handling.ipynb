{
 "cells": [
  {
   "cell_type": "code",
   "execution_count": 7,
   "id": "ef2e6664",
   "metadata": {},
   "outputs": [
    {
     "name": "stdout",
     "output_type": "stream",
     "text": [
      "enter the value:4\n",
      "enter another value:0\n",
      "0.0\n",
      "kindly enter the 0 value of b\n"
     ]
    }
   ],
   "source": [
    "# Exception Handling\n",
    "try:\n",
    "    a=int(input(\"enter the value:\"))\n",
    "    b=int(input(\"enter another value:\"))\n",
    "    div= a/b\n",
    "    print(div)\n",
    "except:\n",
    "    dv=b/a\n",
    "    print(dv)\n",
    "    print(\"kindly enter the 0 value of b\")"
   ]
  },
  {
   "cell_type": "code",
   "execution_count": 9,
   "id": "b0d4dfac",
   "metadata": {},
   "outputs": [
    {
     "name": "stdout",
     "output_type": "stream",
     "text": [
      "enter the value:two\n",
      "invalid input enter integer value\n"
     ]
    }
   ],
   "source": [
    "try :\n",
    "    a=int(input(\"enter the value:\"))\n",
    "    b=int(input(\"enter another value:\"))\n",
    "    div= a/b\n",
    "    print(div)\n",
    "except ZeroDivisionError:\n",
    "    print(\"kindly enter the 0 value of b\")\n",
    "except ValueError:\n",
    "    print(\"invalid input enter integer value\")"
   ]
  },
  {
   "cell_type": "raw",
   "id": "64491751",
   "metadata": {},
   "source": [
    "Nesting: The process of placing one exception-handling routine within another. Nested routines first search for an exception handler within their scope, moving outward if not found. Exception-handling can be nested as deeply as needed to make your code safe.\n",
    "\n",
    "Build a python program on nested try-except block.\n",
    "\n",
    "Write program that repeatedly asks for a whole number input, handling exceptions and allowing users to retry or exit based on their choices.\n",
    "Firstly, used a while loop to keep prompting the user until they enter a valid whole number.\n",
    "Inside the loop, used a try block to attempt to convert the user's input to an integer.\n",
    "If the conversion raises a ValueError, print \"you must enter a whole number!\" and proceed to ask if the user wants to try again (y/n)?.\n",
    "If the user enters \"y\" (yes), the program should continue the loop.\n",
    "If the user enters \"n\" (no), or if they enter anything other than \"y\", the program should print \"ok, see you next time!\" and exit the loop.\n",
    "If the user interrupts the program with a keyboard interrupt (CTRL+C), catch the KeyboardInterrupt exception, print \"You pressed Ctrl+C! See you next time!\" and exit the loop."
   ]
  },
  {
   "cell_type": "code",
   "execution_count": null,
   "id": "4e022394",
   "metadata": {},
   "outputs": [
    {
     "name": "stdout",
     "output_type": "stream",
     "text": [
      "enter the value:6\n",
      "6\n"
     ]
    }
   ],
   "source": [
    "while True:\n",
    "    \n",
    "    try:\n",
    "        a=input(\"enter the value:\")\n",
    "        value=int(a)\n",
    "            \n",
    "        print(value)\n",
    "    except ValueError:\n",
    "        print(\"You must enter the whole number!\")\n",
    "        inputs=input(\"Do you wants to try again (y/n)?.\") \n",
    "        if inputs == \"y\":\n",
    "            pass\n",
    "        else:\n",
    "            print(\"ok, see you next time!\")\n",
    "            break\n",
    "    except KeyboardInterrupt:\n",
    "        print(\"You pressed Ctrl+C! See you next time!\")\n",
    "        break\n",
    "        "
   ]
  },
  {
   "cell_type": "code",
   "execution_count": null,
   "id": "b34ae0ff",
   "metadata": {},
   "outputs": [],
   "source": [
    "Try = True\n",
    "while Try:\n",
    "    try:\n",
    "        value=int(input(\"enter the whole number:\"))\n",
    "    except ValueError:\n",
    "        print(\"You must enter the whole number:\")\n",
    "        try:\n",
    "            again= input(\"Try again(y/n):\")\n",
    "        except:\n",
    "            print(\"ok, see you next time!\")\n",
    "            Try=False\n",
    "        else:\n",
    "            if str.upper(again) == \"N\":\n",
    "                Try = False\n",
    "    except"
   ]
  },
  {
   "cell_type": "code",
   "execution_count": 2,
   "id": "670358c7",
   "metadata": {},
   "outputs": [
    {
     "name": "stdout",
     "output_type": "stream",
     "text": [
      "enter the age:1\n",
      "age is doubled 2\n",
      "Exceted any condition\n"
     ]
    }
   ],
   "source": [
    "try:\n",
    "    age=int(input(\"enter the age:\"))\n",
    "    if age<0:\n",
    "        raise ValueError(\"Age cannot be negative\")\n",
    "    print(f\"age is doubled {age*2}\")\n",
    "except ValueError:\n",
    "    print(\"Age cannot be less thanzero\")\n",
    "finally:\n",
    "    print(\"Excuted any condition\")"
   ]
  },
  {
   "cell_type": "raw",
   "id": "2ab01623",
   "metadata": {},
   "source": [
    "Write a user defined exception class and use it in the arithmetic division operation.\n",
    "Define a class OurException with Exception as base class.\n",
    "Inside this class define the constructor i.e. the __init__(self, message) (Here message is an argument that passed).\n",
    "Set self.message = message.\n",
    "Now define a class UsingUserException.\n",
    "Start the try block.\n",
    "Take input a and b from user.\n",
    "Do a condition testing if b == 0, then raise the OurException with a message b should be greater than 0. (Here we call on the format(b) built in function of Python which prints the message with value of b in the correct format).\n",
    "Do the operation a / b and store in d.\n",
    "Print d saying division operation successful with result.\n",
    "Open the except block with OurException with err as its instance.\n",
    "Print \"Raised an User defined Exception: \" , err.message which prints the message that was raised."
   ]
  },
  {
   "cell_type": "code",
   "execution_count": 5,
   "id": "6a0620f9",
   "metadata": {},
   "outputs": [
    {
     "name": "stdout",
     "output_type": "stream",
     "text": [
      "enter the value of a:4\n",
      "enter the value of b:0\n",
      "Raised an User defined Exception:  b should be greater than 0\n"
     ]
    }
   ],
   "source": [
    "\n",
    "class OurException(Exception):\n",
    "        def __init__(self,message):\n",
    "            self.message=message\n",
    "class UsingUserException:\n",
    "    try:\n",
    "        a=int(input(\"enter the value of a:\"))\n",
    "        b=int(input(\"enter the value of b:\"))\n",
    "        if b==0:\n",
    "            raise OurException(\"b should be greater than 0\")\n",
    "        else:\n",
    "            d=a/b\n",
    "            print(f\"division operation successful with result: {d}\")\n",
    "    except OurException as err:\n",
    "        print(\"Raised an User defined Exception: \",err.message)\n",
    "rama=UsingUserException()\n",
    "\n",
    "                \n"
   ]
  }
 ],
 "metadata": {
  "kernelspec": {
   "display_name": "Python 3 (ipykernel)",
   "language": "python",
   "name": "python3"
  },
  "language_info": {
   "codemirror_mode": {
    "name": "ipython",
    "version": 3
   },
   "file_extension": ".py",
   "mimetype": "text/x-python",
   "name": "python",
   "nbconvert_exporter": "python",
   "pygments_lexer": "ipython3",
   "version": "3.11.5"
  }
 },
 "nbformat": 4,
 "nbformat_minor": 5
}
